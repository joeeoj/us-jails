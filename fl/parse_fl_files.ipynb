{
 "cells": [
  {
   "cell_type": "code",
   "execution_count": 1,
   "id": "e4144958-3388-4b61-b213-1af634244526",
   "metadata": {},
   "outputs": [],
   "source": [
    "import datetime\n",
    "import json\n",
    "from pathlib import Path, PosixPath\n",
    "\n",
    "import numpy as np\n",
    "import pandas as pd\n",
    "\n",
    "from mapping import MAPPING"
   ]
  },
  {
   "cell_type": "code",
   "execution_count": 2,
   "id": "435a7c87-1ad9-4d19-acf4-d7193a9f84bc",
   "metadata": {},
   "outputs": [],
   "source": [
    "DATA = Path.cwd() / 'csvs'"
   ]
  },
  {
   "cell_type": "code",
   "execution_count": 3,
   "id": "a3af3531-b533-43fb-b8e7-ab58697faf1c",
   "metadata": {},
   "outputs": [],
   "source": [
    "def add_id(fac_name: str) -> str:\n",
    "    s = MAPPING.get(fac_name)\n",
    "    return str(s) if s is not None else None\n",
    "\n",
    "def parse_path_date(p: PosixPath) -> datetime.datetime:\n",
    "    s = p.name.replace('tabula-', '').replace('.csv', '')\n",
    "    year, month = s.split('-')\n",
    "    \n",
    "    return datetime.datetime(int(year), int(month), 1)"
   ]
  },
  {
   "cell_type": "code",
   "execution_count": 4,
   "id": "f947d5d8-f9fc-479f-a655-4e65f8ff5b28",
   "metadata": {},
   "outputs": [],
   "source": [
    "def parse_file(p: PosixPath) -> pd.DataFrame:\n",
    "    dt = parse_path_date(p)\n",
    "\n",
    "    # snapshot_date is the beginning of the next month\n",
    "    month = dt.month + 1 if dt.month < 12 else 1\n",
    "    year = dt.year if abs(dt.month - month) == 1 else dt.year + 1\n",
    "    date_str = datetime.datetime(year, month, 1).strftime('%Y-%m-%d')\n",
    "\n",
    "    col_names = {\n",
    "        'Detention Facility Name': 'facility',\n",
    "        'Facility Name': 'facility',\n",
    "\n",
    "        'Average Daily Population': 'total',\n",
    "        'Daily Population': 'total',\n",
    "\n",
    "        'Number Felony Pretrial': 'felony_pretrial',\n",
    "        'Felony Pretrial': 'felony_pretrial',\n",
    "\n",
    "        'Number Misdemeanor Pretrial': 'misdemeanor_pretrial',\n",
    "        'Misdemeanor Pretrial': 'misdemeanor_pretrial',\n",
    "    }\n",
    "\n",
    "    df = pd.read_csv(p, on_bad_lines='skip')\n",
    "    df.columns = [c.replace('\\r', ' ') for c in df.columns]\n",
    "\n",
    "    df = df.rename(columns=col_names)\n",
    "    \n",
    "    # drop completely blank cols and rows\n",
    "    df = df.dropna(how='all', axis=1)\n",
    "    df = df.dropna(how='all', axis=0)\n",
    "\n",
    "    # remove total, grand total, and duplicate header rows\n",
    "    df = df[~(df['facility'].str.startswith('Detention', na=False))]\n",
    "    df = df[~(df['facility'].str.startswith('Total', na=False))]\n",
    "    df = df[~(df['facility'].str.startswith('Grand Total', na=False))]\n",
    "\n",
    "    # remove blank facilities\n",
    "    df = df.dropna(subset='facility')\n",
    "\n",
    "    # convert num columns to int\n",
    "    for col in ['total', 'felony_pretrial', 'misdemeanor_pretrial']:\n",
    "        df[col] = df[col].str.replace('*', '', regex=False).str.replace(',', '').replace('-', np.nan)\n",
    "        df = df.dropna(subset=col)\n",
    "        df[col] = df[col].astype(int)\n",
    "\n",
    "    # add id\n",
    "    df['id'] = df['facility'].apply(add_id)\n",
    "    df = df.dropna(subset=['id'])\n",
    "\n",
    "    # add snapshot_date from file name\n",
    "    df['year_month'] = dt.strftime('%Y-%m')\n",
    "    df['snapshot_date'] = date_str\n",
    "\n",
    "    # add col\n",
    "    df['detained_or_awaiting_trial'] = df['felony_pretrial'] + df['misdemeanor_pretrial']\n",
    "\n",
    "    # finalize columns\n",
    "    df = df[['id', 'snapshot_date', 'year_month', 'detained_or_awaiting_trial', 'total']]\n",
    "\n",
    "    return df"
   ]
  },
  {
   "cell_type": "code",
   "execution_count": 5,
   "id": "6c3e8cea-f651-40d9-a38e-f262d72b6dde",
   "metadata": {},
   "outputs": [],
   "source": [
    "# mapping of YYYY-MM -> pdf url\n",
    "with open('url_mapping.json') as f:\n",
    "    url_mapping = json.load(f)"
   ]
  },
  {
   "cell_type": "code",
   "execution_count": 6,
   "id": "1eb3d714-e564-4f03-a92c-9a6d8997f930",
   "metadata": {},
   "outputs": [
    {
     "data": {
      "text/plain": [
       "3105"
      ]
     },
     "execution_count": 6,
     "metadata": {},
     "output_type": "execute_result"
    }
   ],
   "source": [
    "df = pd.concat([parse_file(f) for f in DATA.glob('*.csv')])\n",
    "\n",
    "# make sure the numbers line up\n",
    "assert (df['detained_or_awaiting_trial'] > df['total']).sum() == 0\n",
    "assert (df['total'] == 0).sum() == 0\n",
    "\n",
    "# add source url\n",
    "df['source_url'] = 'http://www.dc.state.fl.us/pub/jails/index.html'\n",
    "assert (df['source_url'].isnull()).sum() == 0\n",
    "\n",
    "# add source_url_2\n",
    "df['source_url_2'] = df['year_month'].apply(lambda s: url_mapping.get(s))\n",
    "assert (df['source_url_2'].isnull()).sum() == 0\n",
    "\n",
    "len(df)"
   ]
  },
  {
   "cell_type": "code",
   "execution_count": 7,
   "id": "71299f0f-8276-4e40-b432-f7332512d471",
   "metadata": {},
   "outputs": [
    {
     "data": {
      "text/html": [
       "<div>\n",
       "<style scoped>\n",
       "    .dataframe tbody tr th:only-of-type {\n",
       "        vertical-align: middle;\n",
       "    }\n",
       "\n",
       "    .dataframe tbody tr th {\n",
       "        vertical-align: top;\n",
       "    }\n",
       "\n",
       "    .dataframe thead th {\n",
       "        text-align: right;\n",
       "    }\n",
       "</style>\n",
       "<table border=\"1\" class=\"dataframe\">\n",
       "  <thead>\n",
       "    <tr style=\"text-align: right;\">\n",
       "      <th></th>\n",
       "      <th>id</th>\n",
       "      <th>snapshot_date</th>\n",
       "      <th>year_month</th>\n",
       "      <th>detained_or_awaiting_trial</th>\n",
       "      <th>total</th>\n",
       "      <th>source_url</th>\n",
       "      <th>source_url_2</th>\n",
       "    </tr>\n",
       "  </thead>\n",
       "  <tbody>\n",
       "    <tr>\n",
       "      <th>0</th>\n",
       "      <td>6830</td>\n",
       "      <td>2021-10-01</td>\n",
       "      <td>2021-09</td>\n",
       "      <td>527</td>\n",
       "      <td>743</td>\n",
       "      <td>http://www.dc.state.fl.us/pub/jails/index.html</td>\n",
       "      <td>http://www.dc.state.fl.us/pub/jails/2021/jails...</td>\n",
       "    </tr>\n",
       "    <tr>\n",
       "      <th>3</th>\n",
       "      <td>6923</td>\n",
       "      <td>2021-10-01</td>\n",
       "      <td>2021-09</td>\n",
       "      <td>1068</td>\n",
       "      <td>1286</td>\n",
       "      <td>http://www.dc.state.fl.us/pub/jails/index.html</td>\n",
       "      <td>http://www.dc.state.fl.us/pub/jails/2021/jails...</td>\n",
       "    </tr>\n",
       "    <tr>\n",
       "      <th>4</th>\n",
       "      <td>6833</td>\n",
       "      <td>2021-10-01</td>\n",
       "      <td>2021-09</td>\n",
       "      <td>83</td>\n",
       "      <td>157</td>\n",
       "      <td>http://www.dc.state.fl.us/pub/jails/index.html</td>\n",
       "      <td>http://www.dc.state.fl.us/pub/jails/2021/jails...</td>\n",
       "    </tr>\n",
       "    <tr>\n",
       "      <th>5</th>\n",
       "      <td>6834</td>\n",
       "      <td>2021-10-01</td>\n",
       "      <td>2021-09</td>\n",
       "      <td>1309</td>\n",
       "      <td>1519</td>\n",
       "      <td>http://www.dc.state.fl.us/pub/jails/index.html</td>\n",
       "      <td>http://www.dc.state.fl.us/pub/jails/2021/jails...</td>\n",
       "    </tr>\n",
       "    <tr>\n",
       "      <th>6</th>\n",
       "      <td>6837</td>\n",
       "      <td>2021-10-01</td>\n",
       "      <td>2021-09</td>\n",
       "      <td>1151</td>\n",
       "      <td>1251</td>\n",
       "      <td>http://www.dc.state.fl.us/pub/jails/index.html</td>\n",
       "      <td>http://www.dc.state.fl.us/pub/jails/2021/jails...</td>\n",
       "    </tr>\n",
       "  </tbody>\n",
       "</table>\n",
       "</div>"
      ],
      "text/plain": [
       "     id snapshot_date year_month  detained_or_awaiting_trial  total  \\\n",
       "0  6830    2021-10-01    2021-09                         527    743   \n",
       "3  6923    2021-10-01    2021-09                        1068   1286   \n",
       "4  6833    2021-10-01    2021-09                          83    157   \n",
       "5  6834    2021-10-01    2021-09                        1309   1519   \n",
       "6  6837    2021-10-01    2021-09                        1151   1251   \n",
       "\n",
       "                                       source_url  \\\n",
       "0  http://www.dc.state.fl.us/pub/jails/index.html   \n",
       "3  http://www.dc.state.fl.us/pub/jails/index.html   \n",
       "4  http://www.dc.state.fl.us/pub/jails/index.html   \n",
       "5  http://www.dc.state.fl.us/pub/jails/index.html   \n",
       "6  http://www.dc.state.fl.us/pub/jails/index.html   \n",
       "\n",
       "                                        source_url_2  \n",
       "0  http://www.dc.state.fl.us/pub/jails/2021/jails...  \n",
       "3  http://www.dc.state.fl.us/pub/jails/2021/jails...  \n",
       "4  http://www.dc.state.fl.us/pub/jails/2021/jails...  \n",
       "5  http://www.dc.state.fl.us/pub/jails/2021/jails...  \n",
       "6  http://www.dc.state.fl.us/pub/jails/2021/jails...  "
      ]
     },
     "execution_count": 7,
     "metadata": {},
     "output_type": "execute_result"
    }
   ],
   "source": [
    "df.head()"
   ]
  },
  {
   "cell_type": "markdown",
   "id": "dcca6b67-fb1e-461c-b6d7-b4e4accd08f1",
   "metadata": {},
   "source": [
    "## plot random facility as a spot check"
   ]
  },
  {
   "cell_type": "code",
   "execution_count": 8,
   "id": "d227de2f-a970-4a3c-bd8a-c898132ad02b",
   "metadata": {},
   "outputs": [
    {
     "name": "stdout",
     "output_type": "stream",
     "text": [
      "6854\n",
      "Escambia County Central Booking\n"
     ]
    },
    {
     "data": {
      "image/png": "[encoded data removed]",
      "text/plain": [
       "<Figure size 432x288 with 1 Axes>"
      ]
     },
     "metadata": {
      "needs_background": "light"
     },
     "output_type": "display_data"
    }
   ],
   "source": [
    "rand_fac = df['id'].sample().values[0]\n",
    "print(rand_fac)\n",
    "print({v: k for k,v in MAPPING.items()}.get(int(rand_fac)))\n",
    "\n",
    "df[df['id'] == rand_fac].set_index(['snapshot_date']).sort_index()['total'].plot();"
   ]
  },
  {
   "cell_type": "markdown",
   "id": "f8c0ff25-bb37-4431-af5d-adc4ac250e93",
   "metadata": {},
   "source": [
    "## export"
   ]
  },
  {
   "cell_type": "code",
   "execution_count": 9,
   "id": "4f62a13e-12cf-4c12-995f-42d9c324d5e8",
   "metadata": {},
   "outputs": [
    {
     "data": {
      "text/html": [
       "<div>\n",
       "<style scoped>\n",
       "    .dataframe tbody tr th:only-of-type {\n",
       "        vertical-align: middle;\n",
       "    }\n",
       "\n",
       "    .dataframe tbody tr th {\n",
       "        vertical-align: top;\n",
       "    }\n",
       "\n",
       "    .dataframe thead th {\n",
       "        text-align: right;\n",
       "    }\n",
       "</style>\n",
       "<table border=\"1\" class=\"dataframe\">\n",
       "  <thead>\n",
       "    <tr style=\"text-align: right;\">\n",
       "      <th></th>\n",
       "      <th>id</th>\n",
       "      <th>snapshot_date</th>\n",
       "      <th>year_month</th>\n",
       "      <th>detained_or_awaiting_trial</th>\n",
       "      <th>total</th>\n",
       "      <th>source_url</th>\n",
       "      <th>source_url_2</th>\n",
       "    </tr>\n",
       "  </thead>\n",
       "  <tbody>\n",
       "    <tr>\n",
       "      <th>0</th>\n",
       "      <td>6830</td>\n",
       "      <td>2021-10-01</td>\n",
       "      <td>2021-09</td>\n",
       "      <td>527</td>\n",
       "      <td>743</td>\n",
       "      <td>http://www.dc.state.fl.us/pub/jails/index.html</td>\n",
       "      <td>http://www.dc.state.fl.us/pub/jails/2021/jails...</td>\n",
       "    </tr>\n",
       "    <tr>\n",
       "      <th>3</th>\n",
       "      <td>6923</td>\n",
       "      <td>2021-10-01</td>\n",
       "      <td>2021-09</td>\n",
       "      <td>1068</td>\n",
       "      <td>1286</td>\n",
       "      <td>http://www.dc.state.fl.us/pub/jails/index.html</td>\n",
       "      <td>http://www.dc.state.fl.us/pub/jails/2021/jails...</td>\n",
       "    </tr>\n",
       "    <tr>\n",
       "      <th>4</th>\n",
       "      <td>6833</td>\n",
       "      <td>2021-10-01</td>\n",
       "      <td>2021-09</td>\n",
       "      <td>83</td>\n",
       "      <td>157</td>\n",
       "      <td>http://www.dc.state.fl.us/pub/jails/index.html</td>\n",
       "      <td>http://www.dc.state.fl.us/pub/jails/2021/jails...</td>\n",
       "    </tr>\n",
       "    <tr>\n",
       "      <th>5</th>\n",
       "      <td>6834</td>\n",
       "      <td>2021-10-01</td>\n",
       "      <td>2021-09</td>\n",
       "      <td>1309</td>\n",
       "      <td>1519</td>\n",
       "      <td>http://www.dc.state.fl.us/pub/jails/index.html</td>\n",
       "      <td>http://www.dc.state.fl.us/pub/jails/2021/jails...</td>\n",
       "    </tr>\n",
       "    <tr>\n",
       "      <th>6</th>\n",
       "      <td>6837</td>\n",
       "      <td>2021-10-01</td>\n",
       "      <td>2021-09</td>\n",
       "      <td>1151</td>\n",
       "      <td>1251</td>\n",
       "      <td>http://www.dc.state.fl.us/pub/jails/index.html</td>\n",
       "      <td>http://www.dc.state.fl.us/pub/jails/2021/jails...</td>\n",
       "    </tr>\n",
       "  </tbody>\n",
       "</table>\n",
       "</div>"
      ],
      "text/plain": [
       "     id snapshot_date year_month  detained_or_awaiting_trial  total  \\\n",
       "0  6830    2021-10-01    2021-09                         527    743   \n",
       "3  6923    2021-10-01    2021-09                        1068   1286   \n",
       "4  6833    2021-10-01    2021-09                          83    157   \n",
       "5  6834    2021-10-01    2021-09                        1309   1519   \n",
       "6  6837    2021-10-01    2021-09                        1151   1251   \n",
       "\n",
       "                                       source_url  \\\n",
       "0  http://www.dc.state.fl.us/pub/jails/index.html   \n",
       "3  http://www.dc.state.fl.us/pub/jails/index.html   \n",
       "4  http://www.dc.state.fl.us/pub/jails/index.html   \n",
       "5  http://www.dc.state.fl.us/pub/jails/index.html   \n",
       "6  http://www.dc.state.fl.us/pub/jails/index.html   \n",
       "\n",
       "                                        source_url_2  \n",
       "0  http://www.dc.state.fl.us/pub/jails/2021/jails...  \n",
       "3  http://www.dc.state.fl.us/pub/jails/2021/jails...  \n",
       "4  http://www.dc.state.fl.us/pub/jails/2021/jails...  \n",
       "5  http://www.dc.state.fl.us/pub/jails/2021/jails...  \n",
       "6  http://www.dc.state.fl.us/pub/jails/2021/jails...  "
      ]
     },
     "execution_count": 9,
     "metadata": {},
     "output_type": "execute_result"
    }
   ],
   "source": [
    "df.head()"
   ]
  },
  {
   "cell_type": "code",
   "execution_count": 10,
   "id": "422287b6-cbe2-48d2-b9f2-efa254f597e2",
   "metadata": {},
   "outputs": [],
   "source": [
    "output_cols = ['id', 'snapshot_date', 'detained_or_awaiting_trial', 'total', 'source_url', 'source_url_2']\n",
    "\n",
    "df[output_cols].to_csv('inmate_population_snapshots.csv', index=False)"
   ]
  }
 ],
 "metadata": {
  "kernelspec": {
   "display_name": "Python 3 (ipykernel)",
   "language": "python",
   "name": "python3"
  },
  "language_info": {
   "codemirror_mode": {
    "name": "ipython",
    "version": 3
   },
   "file_extension": ".py",
   "mimetype": "text/x-python",
   "name": "python",
   "nbconvert_exporter": "python",
   "pygments_lexer": "ipython3",
   "version": "3.10.2"
  }
 },
 "nbformat": 4,
 "nbformat_minor": 5
}
