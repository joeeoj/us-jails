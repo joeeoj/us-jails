{
 "cells": [
  {
   "cell_type": "markdown",
   "id": "2ce27fe5-7da2-4ac1-bc06-5e3697043118",
   "metadata": {},
   "source": [
    "# TCJS data"
   ]
  },
  {
   "cell_type": "code",
   "execution_count": 1,
   "id": "a52e9717-13c9-4485-9e76-7bb25efb94dd",
   "metadata": {},
   "outputs": [],
   "source": [
    "from pathlib import Path, PosixPath\n",
    "\n",
    "import numpy as np\n",
    "import pandas as pd\n",
    "\n",
    "# \n",
    "from county_mapping import MAPPING\n",
    "\n",
    "pd.set_option('display.max_rows', 100)\n",
    "pd.set_option('display.max_colwidth', 300)\n",
    "pd.set_option('display.max_columns', 30)"
   ]
  },
  {
   "cell_type": "code",
   "execution_count": 2,
   "id": "8a509be5-873a-47b3-99ab-8ff441187bc7",
   "metadata": {},
   "outputs": [],
   "source": [
    "# manually create header since it was excluded from the Tabula parsing (because it didn't work)\n",
    "HEADER = ['county', 'pretrial_felons', 'convicted_felons', 'convicted_felons_sentenced_to_county_jail_time',\n",
    "          'parole_violators', 'parole_violators_with_new_charge', 'pretrial_misdemeanor', 'convicted_misdemeanor',\n",
    "          'bench_warrants', 'federal', 'pretrial_state_jail_felony', 'convicted_sjf_sentenced_to_county_jail_time',\n",
    "          'convicted_sjf_sentenced_to_state_jail_time', 'total_others', 'total_local', 'total_contract', 'total_pop',\n",
    "          'total_capacity', 'pct_of_capacity', 'avail_beds']\n",
    "\n",
    "DATA = Path.cwd() / 'csvs'\n",
    "URL = 'https://www.tcjs.state.tx.us/wp-content/uploads/{year}/{month}/AbbreRptCurrent.pdf'\n",
    "\n",
    "# `inmate_population_snapshots` table cols\n",
    "TABLE_COLS = ['id', 'snapshot_date', 'total', 'total_off_site', 'male', 'female', 'other_gender', 'white', 'black', 'hispanic',\n",
    "              'asian', 'american_indian', 'mexican_american', 'multi_racial', 'other_race', 'on_probation', 'on_parole',\n",
    "              'felony', 'misdemeanor', 'other_offense', 'convicted_or_sentenced', 'detained_or_awaiting_trial',\n",
    "              'first_time_incarcerated', 'employed', 'unemployed', 'citizen', 'noncitizen', 'juvenile', 'juvenile_male',\n",
    "              'juvenile_female', 'death_row_condemned', 'solitary_confinement', 'technical_parole_violators', 'source_url',\n",
    "              'source_url_2', 'civil_offense', 'federal_offense']"
   ]
  },
  {
   "cell_type": "code",
   "execution_count": 3,
   "id": "7e5c1147-4d87-448e-ab2b-b474ce65a779",
   "metadata": {},
   "outputs": [
    {
     "name": "stdout",
     "output_type": "stream",
     "text": [
      "total rows: 13,658\n",
      "removed 4,988 rows with no id\n",
      "jails with no data: 1\n",
      "remaining rows: 8,619\n"
     ]
    }
   ],
   "source": [
    "dfs = []\n",
    "for f in DATA.glob('*.csv'):\n",
    "    year_month = f.name.replace('tabula-', '').replace('.csv', '')\n",
    "    year, month = year_month.split('-')\n",
    "    source = URL.format(year=year, month=month)\n",
    "\n",
    "    t = pd.read_csv(f, names=HEADER, on_bad_lines='warn')\n",
    "    t['snapshot_date'] = f'{year_month}-01'\n",
    "    t['source_url_2'] = source\n",
    "    dfs.append(t)\n",
    "\n",
    "df = pd.concat(dfs).sort_values(['snapshot_date', 'county'])\n",
    "print(f'total rows: {len(df):,}')\n",
    "\n",
    "df['id'] = df['county'].apply(lambda s: MAPPING.get(s, np.nan))\n",
    "df['source_url'] = 'https://www.tcjs.state.tx.us/population-reports/'\n",
    "\n",
    "# only include rows with existing jail ids\n",
    "print(f'removed {df[\"id\"].isnull().sum():,} rows with no id')\n",
    "df = df[df[\"id\"].notnull()]\n",
    "\n",
    "# filter out jails with no data across all rows\n",
    "total_grouped = df.groupby('id')['total_pop'].sum()\n",
    "empty_ids = total_grouped[total_grouped == 0].index.tolist()\n",
    "print(f'jails with no data: {len(empty_ids):,}')\n",
    "\n",
    "df = df[~(df['id'].isin(empty_ids))]\n",
    "print(f'remaining rows: {len(df):,}')"
   ]
  },
  {
   "cell_type": "markdown",
   "id": "3113e688-d30d-4067-8bac-bc47ae463ec5",
   "metadata": {},
   "source": [
    "### check totals\n",
    "\n",
    "There are two counties where local + contract does not equal the total population. They could be typos or incorrectly reported data. Otherwise these equal up for all other rows."
   ]
  },
  {
   "cell_type": "code",
   "execution_count": 4,
   "id": "770a094c-6f02-4c26-ba1e-c2a84567a2ce",
   "metadata": {},
   "outputs": [
    {
     "data": {
      "text/html": [
       "<div>\n",
       "<style scoped>\n",
       "    .dataframe tbody tr th:only-of-type {\n",
       "        vertical-align: middle;\n",
       "    }\n",
       "\n",
       "    .dataframe tbody tr th {\n",
       "        vertical-align: top;\n",
       "    }\n",
       "\n",
       "    .dataframe thead th {\n",
       "        text-align: right;\n",
       "    }\n",
       "</style>\n",
       "<table border=\"1\" class=\"dataframe\">\n",
       "  <thead>\n",
       "    <tr style=\"text-align: right;\">\n",
       "      <th></th>\n",
       "      <th>id</th>\n",
       "      <th>county</th>\n",
       "      <th>total_others</th>\n",
       "      <th>total_local</th>\n",
       "      <th>total_contract</th>\n",
       "      <th>total_pop</th>\n",
       "      <th>source_url_2</th>\n",
       "    </tr>\n",
       "  </thead>\n",
       "  <tbody>\n",
       "    <tr>\n",
       "      <th>198</th>\n",
       "      <td>9232</td>\n",
       "      <td>Polk</td>\n",
       "      <td>8</td>\n",
       "      <td>186</td>\n",
       "      <td>26</td>\n",
       "      <td>211</td>\n",
       "      <td>https://www.tcjs.state.tx.us/wp-content/uploads/2019/08/AbbreRptCurrent.pdf</td>\n",
       "    </tr>\n",
       "    <tr>\n",
       "      <th>198</th>\n",
       "      <td>9232</td>\n",
       "      <td>Polk</td>\n",
       "      <td>1</td>\n",
       "      <td>186</td>\n",
       "      <td>23</td>\n",
       "      <td>211</td>\n",
       "      <td>https://www.tcjs.state.tx.us/wp-content/uploads/2019/09/AbbreRptCurrent.pdf</td>\n",
       "    </tr>\n",
       "    <tr>\n",
       "      <th>198</th>\n",
       "      <td>9232</td>\n",
       "      <td>Polk</td>\n",
       "      <td>2</td>\n",
       "      <td>153</td>\n",
       "      <td>44</td>\n",
       "      <td>211</td>\n",
       "      <td>https://www.tcjs.state.tx.us/wp-content/uploads/2019/10/AbbreRptCurrent.pdf</td>\n",
       "    </tr>\n",
       "    <tr>\n",
       "      <th>198</th>\n",
       "      <td>9232</td>\n",
       "      <td>Polk</td>\n",
       "      <td>2</td>\n",
       "      <td>169</td>\n",
       "      <td>37</td>\n",
       "      <td>211</td>\n",
       "      <td>https://www.tcjs.state.tx.us/wp-content/uploads/2019/11/AbbreRptCurrent.pdf</td>\n",
       "    </tr>\n",
       "    <tr>\n",
       "      <th>198</th>\n",
       "      <td>9232</td>\n",
       "      <td>Polk</td>\n",
       "      <td>1</td>\n",
       "      <td>150</td>\n",
       "      <td>36</td>\n",
       "      <td>211</td>\n",
       "      <td>https://www.tcjs.state.tx.us/wp-content/uploads/2019/12/AbbreRptCurrent.pdf</td>\n",
       "    </tr>\n",
       "    <tr>\n",
       "      <th>12</th>\n",
       "      <td>9064</td>\n",
       "      <td>Bee</td>\n",
       "      <td>0</td>\n",
       "      <td>52</td>\n",
       "      <td>26</td>\n",
       "      <td>68</td>\n",
       "      <td>https://www.tcjs.state.tx.us/wp-content/uploads/2020/04/AbbreRptCurrent.pdf</td>\n",
       "    </tr>\n",
       "  </tbody>\n",
       "</table>\n",
       "</div>"
      ],
      "text/plain": [
       "       id county  total_others  total_local  total_contract  total_pop  \\\n",
       "198  9232   Polk             8          186              26        211   \n",
       "198  9232   Polk             1          186              23        211   \n",
       "198  9232   Polk             2          153              44        211   \n",
       "198  9232   Polk             2          169              37        211   \n",
       "198  9232   Polk             1          150              36        211   \n",
       "12   9064    Bee             0           52              26         68   \n",
       "\n",
       "                                                                    source_url_2  \n",
       "198  https://www.tcjs.state.tx.us/wp-content/uploads/2019/08/AbbreRptCurrent.pdf  \n",
       "198  https://www.tcjs.state.tx.us/wp-content/uploads/2019/09/AbbreRptCurrent.pdf  \n",
       "198  https://www.tcjs.state.tx.us/wp-content/uploads/2019/10/AbbreRptCurrent.pdf  \n",
       "198  https://www.tcjs.state.tx.us/wp-content/uploads/2019/11/AbbreRptCurrent.pdf  \n",
       "198  https://www.tcjs.state.tx.us/wp-content/uploads/2019/12/AbbreRptCurrent.pdf  \n",
       "12   https://www.tcjs.state.tx.us/wp-content/uploads/2020/04/AbbreRptCurrent.pdf  "
      ]
     },
     "execution_count": 4,
     "metadata": {},
     "output_type": "execute_result"
    }
   ],
   "source": [
    "# check totals\n",
    "totals_not_equal = (df[['total_local', 'total_contract']].sum(axis=1) - df['total_pop']) != 0\n",
    "df[totals_not_equal][['id', 'county', 'total_others', 'total_local', 'total_contract', 'total_pop', 'source_url_2']]"
   ]
  },
  {
   "cell_type": "markdown",
   "id": "9ed23c0c-b863-4d9c-b980-30df3836a44d",
   "metadata": {},
   "source": [
    "## rename cols"
   ]
  },
  {
   "cell_type": "code",
   "execution_count": 5,
   "id": "b3e14a65-b625-4638-a4f3-d2d4bf827384",
   "metadata": {},
   "outputs": [
    {
     "data": {
      "text/html": [
       "<div>\n",
       "<style scoped>\n",
       "    .dataframe tbody tr th:only-of-type {\n",
       "        vertical-align: middle;\n",
       "    }\n",
       "\n",
       "    .dataframe tbody tr th {\n",
       "        vertical-align: top;\n",
       "    }\n",
       "\n",
       "    .dataframe thead th {\n",
       "        text-align: right;\n",
       "    }\n",
       "</style>\n",
       "<table border=\"1\" class=\"dataframe\">\n",
       "  <thead>\n",
       "    <tr style=\"text-align: right;\">\n",
       "      <th></th>\n",
       "      <th>id</th>\n",
       "      <th>snapshot_date</th>\n",
       "      <th>total</th>\n",
       "      <th>total_off_site</th>\n",
       "      <th>felony</th>\n",
       "      <th>misdemeanor</th>\n",
       "      <th>convicted_or_sentenced</th>\n",
       "      <th>detained_or_awaiting_trial</th>\n",
       "      <th>technical_parole_violators</th>\n",
       "      <th>source_url</th>\n",
       "      <th>source_url_2</th>\n",
       "      <th>federal_offense</th>\n",
       "    </tr>\n",
       "  </thead>\n",
       "  <tbody>\n",
       "    <tr>\n",
       "      <th>0</th>\n",
       "      <td>10302</td>\n",
       "      <td>2018-01-01</td>\n",
       "      <td>33</td>\n",
       "      <td>9</td>\n",
       "      <td>0</td>\n",
       "      <td>0</td>\n",
       "      <td>0</td>\n",
       "      <td>23</td>\n",
       "      <td>0</td>\n",
       "      <td>https://www.tcjs.state.tx.us/population-reports/</td>\n",
       "      <td>https://www.tcjs.state.tx.us/wp-content/uploads/2018/01/AbbreRptCurrent.pdf</td>\n",
       "      <td>0</td>\n",
       "    </tr>\n",
       "    <tr>\n",
       "      <th>1</th>\n",
       "      <td>9054</td>\n",
       "      <td>2018-01-01</td>\n",
       "      <td>30</td>\n",
       "      <td>0</td>\n",
       "      <td>9</td>\n",
       "      <td>0</td>\n",
       "      <td>2</td>\n",
       "      <td>28</td>\n",
       "      <td>5</td>\n",
       "      <td>https://www.tcjs.state.tx.us/population-reports/</td>\n",
       "      <td>https://www.tcjs.state.tx.us/wp-content/uploads/2018/01/AbbreRptCurrent.pdf</td>\n",
       "      <td>0</td>\n",
       "    </tr>\n",
       "  </tbody>\n",
       "</table>\n",
       "</div>"
      ],
      "text/plain": [
       "      id snapshot_date  total  total_off_site  felony  misdemeanor  \\\n",
       "0  10302    2018-01-01     33               9       0            0   \n",
       "1   9054    2018-01-01     30               0       9            0   \n",
       "\n",
       "   convicted_or_sentenced  detained_or_awaiting_trial  \\\n",
       "0                       0                          23   \n",
       "1                       2                          28   \n",
       "\n",
       "   technical_parole_violators  \\\n",
       "0                           0   \n",
       "1                           5   \n",
       "\n",
       "                                         source_url  \\\n",
       "0  https://www.tcjs.state.tx.us/population-reports/   \n",
       "1  https://www.tcjs.state.tx.us/population-reports/   \n",
       "\n",
       "                                                                  source_url_2  \\\n",
       "0  https://www.tcjs.state.tx.us/wp-content/uploads/2018/01/AbbreRptCurrent.pdf   \n",
       "1  https://www.tcjs.state.tx.us/wp-content/uploads/2018/01/AbbreRptCurrent.pdf   \n",
       "\n",
       "   federal_offense  \n",
       "0                0  \n",
       "1                0  "
      ]
     },
     "execution_count": 5,
     "metadata": {},
     "output_type": "execute_result"
    }
   ],
   "source": [
    "convert_cols = {\n",
    "  'total_pop': 'total',\n",
    "  'total_contract': 'total_off_site',\n",
    "  'convicted_felons': 'felony',\n",
    "  'convicted_misdemeanor': 'misdemeanor',\n",
    "  'federal': 'federal_offense',\n",
    "}\n",
    "\n",
    "df = df.rename(columns=convert_cols)\n",
    "\n",
    "df['technical_parole_violators'] = df['parole_violators'] + df['parole_violators_with_new_charge']\n",
    "\n",
    "convicted_cols = [c for c in df.columns if c.startswith('convicted')]\n",
    "df['convicted_or_sentenced'] = df[convicted_cols].sum(axis=1)\n",
    "\n",
    "pretrial_cols = [c for c in df.columns if c.startswith('pretrial')]\n",
    "df['detained_or_awaiting_trial'] = df[pretrial_cols].sum(axis=1)\n",
    "\n",
    "output_cols = set(TABLE_COLS) & set(df.columns)\n",
    "output_cols_sorted = [c for c in TABLE_COLS if c in output_cols]\n",
    "\n",
    "df = df[output_cols_sorted].sort_values(['snapshot_date', 'id']).reset_index().drop('index', axis=1)\n",
    "\n",
    "df.head(2)"
   ]
  },
  {
   "cell_type": "code",
   "execution_count": 6,
   "id": "6c67c528-ee04-46b1-a522-ac739321c1ad",
   "metadata": {},
   "outputs": [
    {
     "name": "stdout",
     "output_type": "stream",
     "text": [
      "Snapshot data from 2018-01-01 to 2022-04-01\n"
     ]
    }
   ],
   "source": [
    "print(f\"Snapshot data from {df['snapshot_date'].min()} to {df['snapshot_date'].max()}\")"
   ]
  },
  {
   "cell_type": "markdown",
   "id": "de02502e-0dbf-4e43-8b42-d11ecef5347a",
   "metadata": {
    "tags": []
   },
   "source": [
    "### check totals\n",
    "\n",
    "Not sure if these are ever going to add up. Some of the small totals line up exactly but it is hit or miss. Maybe from double counting across categories. As someone not familiar with all the categories I'm not sure how to interpret the [form the jails use](https://www.tcjs.state.tx.us/wp-content/uploads/2019/10/Jail-Population-report-Printable.pdf) to categorize inmates."
   ]
  },
  {
   "cell_type": "code",
   "execution_count": 7,
   "id": "1dfe69bf-3355-4db9-b5f6-602e5648e572",
   "metadata": {},
   "outputs": [
    {
     "name": "stdout",
     "output_type": "stream",
     "text": [
      "total rows: 8,619\n",
      "total = sum cols: 1,059\n",
      "total < sum cols: 5,887\n",
      "total > sum cols: 1,673\n"
     ]
    }
   ],
   "source": [
    "sum_cols = ['felony', 'misdemeanor', 'convicted_or_sentenced', 'detained_or_awaiting_trial', 'technical_parole_violators', 'federal_offense']\n",
    "\n",
    "equal = (df[sum_cols].sum(axis=1) == df[['total', 'total_off_site']].sum(axis=1))\n",
    "less_than = (df[sum_cols].sum(axis=1) < df[['total', 'total_off_site']].sum(axis=1))\n",
    "greater_than = (df[sum_cols].sum(axis=1) > df[['total', 'total_off_site']].sum(axis=1))\n",
    "\n",
    "print(f'total rows: {len(df):,}')\n",
    "print(f'total = sum cols: {equal.sum():,}')\n",
    "print(f'total < sum cols: {less_than.sum():,}')\n",
    "print(f'total > sum cols: {greater_than.sum():,}')"
   ]
  },
  {
   "cell_type": "markdown",
   "id": "71095934-1112-4878-92dc-d84116a2e177",
   "metadata": {},
   "source": [
    "## export"
   ]
  },
  {
   "cell_type": "code",
   "execution_count": 8,
   "id": "ef9393df-e3b9-4946-8205-568eb336810c",
   "metadata": {},
   "outputs": [],
   "source": [
    "df.to_csv('inmate_population_snapshots.csv', index=False)"
   ]
  }
 ],
 "metadata": {
  "kernelspec": {
   "display_name": "Python 3 (ipykernel)",
   "language": "python",
   "name": "python3"
  },
  "language_info": {
   "codemirror_mode": {
    "name": "ipython",
    "version": 3
   },
   "file_extension": ".py",
   "mimetype": "text/x-python",
   "name": "python",
   "nbconvert_exporter": "python",
   "pygments_lexer": "ipython3",
   "version": "3.10.2"
  }
 },
 "nbformat": 4,
 "nbformat_minor": 5
}
